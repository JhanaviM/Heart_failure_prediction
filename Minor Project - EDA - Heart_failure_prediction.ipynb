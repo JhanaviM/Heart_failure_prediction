{
 "cells": [
  {
   "cell_type": "markdown",
   "id": "7f56a9bc",
   "metadata": {},
   "source": [
    "# MINOR PROJECT"
   ]
  },
  {
   "cell_type": "markdown",
   "id": "2e12f90e",
   "metadata": {},
   "source": [
    "## TASK 1 - Exploratory Data Analysis"
   ]
  },
  {
   "cell_type": "code",
   "execution_count": 112,
   "id": "67b1ba3e",
   "metadata": {},
   "outputs": [],
   "source": [
    "import pandas as pd\n",
    "import numpy as np\n",
    "\n",
    "import matplotlib.pyplot as plt\n",
    "import seaborn as sns\n",
    "\n",
    "import warnings\n",
    "warnings.filterwarnings('ignore')#to ignore warnings "
   ]
  },
  {
   "cell_type": "code",
   "execution_count": 113,
   "id": "5f50976f",
   "metadata": {},
   "outputs": [],
   "source": [
    "data = pd.read_csv(\"C:\\\\Users\\\\deepa\\\\Documents\\\\Jhanavi CS\\\\Internship - Python and ML\\\\Mini project\\\\heart.csv\")"
   ]
  },
  {
   "cell_type": "markdown",
   "id": "819dff58",
   "metadata": {},
   "source": [
    "###### Q-1:Are there any missing values in the dataset? If so, how will you handle them? What is the distribution of heart disease and normal cases in the dataset? Is the dataset balanced or imbalanced?"
   ]
  },
  {
   "cell_type": "markdown",
   "id": "51619218",
   "metadata": {},
   "source": [
    "###### Code - \n"
   ]
  },
  {
   "cell_type": "code",
   "execution_count": 114,
   "id": "dfe03044",
   "metadata": {},
   "outputs": [
    {
     "data": {
      "text/html": [
       "<div>\n",
       "<style scoped>\n",
       "    .dataframe tbody tr th:only-of-type {\n",
       "        vertical-align: middle;\n",
       "    }\n",
       "\n",
       "    .dataframe tbody tr th {\n",
       "        vertical-align: top;\n",
       "    }\n",
       "\n",
       "    .dataframe thead th {\n",
       "        text-align: right;\n",
       "    }\n",
       "</style>\n",
       "<table border=\"1\" class=\"dataframe\">\n",
       "  <thead>\n",
       "    <tr style=\"text-align: right;\">\n",
       "      <th></th>\n",
       "      <th>Age</th>\n",
       "      <th>Sex</th>\n",
       "      <th>ChestPainType</th>\n",
       "      <th>RestingBP</th>\n",
       "      <th>Cholesterol</th>\n",
       "      <th>FastingBS</th>\n",
       "      <th>RestingECG</th>\n",
       "      <th>MaxHR</th>\n",
       "      <th>ExerciseAngina</th>\n",
       "      <th>Oldpeak</th>\n",
       "      <th>ST_Slope</th>\n",
       "      <th>HeartDisease</th>\n",
       "    </tr>\n",
       "  </thead>\n",
       "  <tbody>\n",
       "    <tr>\n",
       "      <th>0</th>\n",
       "      <td>40</td>\n",
       "      <td>M</td>\n",
       "      <td>ATA</td>\n",
       "      <td>140</td>\n",
       "      <td>289</td>\n",
       "      <td>0</td>\n",
       "      <td>Normal</td>\n",
       "      <td>172</td>\n",
       "      <td>N</td>\n",
       "      <td>0.0</td>\n",
       "      <td>Up</td>\n",
       "      <td>0</td>\n",
       "    </tr>\n",
       "    <tr>\n",
       "      <th>1</th>\n",
       "      <td>49</td>\n",
       "      <td>F</td>\n",
       "      <td>NAP</td>\n",
       "      <td>160</td>\n",
       "      <td>180</td>\n",
       "      <td>0</td>\n",
       "      <td>Normal</td>\n",
       "      <td>156</td>\n",
       "      <td>N</td>\n",
       "      <td>1.0</td>\n",
       "      <td>Flat</td>\n",
       "      <td>1</td>\n",
       "    </tr>\n",
       "    <tr>\n",
       "      <th>2</th>\n",
       "      <td>37</td>\n",
       "      <td>M</td>\n",
       "      <td>ATA</td>\n",
       "      <td>130</td>\n",
       "      <td>283</td>\n",
       "      <td>0</td>\n",
       "      <td>ST</td>\n",
       "      <td>98</td>\n",
       "      <td>N</td>\n",
       "      <td>0.0</td>\n",
       "      <td>Up</td>\n",
       "      <td>0</td>\n",
       "    </tr>\n",
       "    <tr>\n",
       "      <th>3</th>\n",
       "      <td>48</td>\n",
       "      <td>F</td>\n",
       "      <td>ASY</td>\n",
       "      <td>138</td>\n",
       "      <td>214</td>\n",
       "      <td>0</td>\n",
       "      <td>Normal</td>\n",
       "      <td>108</td>\n",
       "      <td>Y</td>\n",
       "      <td>1.5</td>\n",
       "      <td>Flat</td>\n",
       "      <td>1</td>\n",
       "    </tr>\n",
       "    <tr>\n",
       "      <th>4</th>\n",
       "      <td>54</td>\n",
       "      <td>M</td>\n",
       "      <td>NAP</td>\n",
       "      <td>150</td>\n",
       "      <td>195</td>\n",
       "      <td>0</td>\n",
       "      <td>Normal</td>\n",
       "      <td>122</td>\n",
       "      <td>N</td>\n",
       "      <td>0.0</td>\n",
       "      <td>Up</td>\n",
       "      <td>0</td>\n",
       "    </tr>\n",
       "  </tbody>\n",
       "</table>\n",
       "</div>"
      ],
      "text/plain": [
       "   Age Sex ChestPainType  RestingBP  Cholesterol  FastingBS RestingECG  MaxHR  \\\n",
       "0   40   M           ATA        140          289          0     Normal    172   \n",
       "1   49   F           NAP        160          180          0     Normal    156   \n",
       "2   37   M           ATA        130          283          0         ST     98   \n",
       "3   48   F           ASY        138          214          0     Normal    108   \n",
       "4   54   M           NAP        150          195          0     Normal    122   \n",
       "\n",
       "  ExerciseAngina  Oldpeak ST_Slope  HeartDisease  \n",
       "0              N      0.0       Up             0  \n",
       "1              N      1.0     Flat             1  \n",
       "2              N      0.0       Up             0  \n",
       "3              Y      1.5     Flat             1  \n",
       "4              N      0.0       Up             0  "
      ]
     },
     "execution_count": 114,
     "metadata": {},
     "output_type": "execute_result"
    }
   ],
   "source": [
    "data.head()"
   ]
  },
  {
   "cell_type": "code",
   "execution_count": 115,
   "id": "af3fbf70",
   "metadata": {},
   "outputs": [
    {
     "data": {
      "text/plain": [
       "Age               0\n",
       "Sex               0\n",
       "ChestPainType     0\n",
       "RestingBP         0\n",
       "Cholesterol       0\n",
       "FastingBS         0\n",
       "RestingECG        0\n",
       "MaxHR             0\n",
       "ExerciseAngina    0\n",
       "Oldpeak           0\n",
       "ST_Slope          0\n",
       "HeartDisease      0\n",
       "dtype: int64"
      ]
     },
     "execution_count": 115,
     "metadata": {},
     "output_type": "execute_result"
    }
   ],
   "source": [
    "#to check null values\n",
    "data.isna().sum()"
   ]
  },
  {
   "cell_type": "markdown",
   "id": "ea2f3845",
   "metadata": {},
   "source": [
    "Here we conclude that there are no null values in the dataset .\n",
    "\n",
    "In case of null values we use the following command\n",
    "\n",
    "data = data.dropna()\n",
    "\n",
    "This is done to drop or remove null values"
   ]
  },
  {
   "cell_type": "code",
   "execution_count": 116,
   "id": "fb001c4e",
   "metadata": {},
   "outputs": [
    {
     "data": {
      "text/plain": [
       "HeartDisease\n",
       "0    410\n",
       "1    508\n",
       "Name: HeartDisease, dtype: int64"
      ]
     },
     "execution_count": 116,
     "metadata": {},
     "output_type": "execute_result"
    }
   ],
   "source": [
    "#What is the distribution of heart disease and normal cases in the dataset?\n",
    "data.groupby(['HeartDisease'])['HeartDisease'].count()"
   ]
  },
  {
   "cell_type": "markdown",
   "id": "c8bc7166",
   "metadata": {},
   "source": [
    "There are total 508 people having heart diseases and 410 normal cases"
   ]
  },
  {
   "cell_type": "code",
   "execution_count": 117,
   "id": "54a3f642",
   "metadata": {},
   "outputs": [
    {
     "data": {
      "image/png": "[encoded data removed]",
      "text/plain": [
       "<Figure size 432x288 with 1 Axes>"
      ]
     },
     "metadata": {},
     "output_type": "display_data"
    }
   ],
   "source": [
    "#Is the dataset balanced or imbalanced?\n",
    "ax = sns.countplot(x = data['HeartDisease'],hue = data['HeartDisease'])\n",
    "ax.set_title('Distribution of Heart Diseases')\n",
    "sns.set_theme(style=\"whitegrid\")\n",
    "ax.set_xlabel('Heart_Disease')\n",
    "ax.set_ylabel('Count of people')\n",
    "plt.legend()\n",
    "plt.show()"
   ]
  },
  {
   "cell_type": "markdown",
   "id": "cb4696a9",
   "metadata": {},
   "source": [
    "###### Q-2:How does the occurrence of heart disease vary with different input features (age, gender, hypertension, diabetes, etc.)? Create visualizations such as bar plots or boxplots to compare their distributions"
   ]
  },
  {
   "cell_type": "markdown",
   "id": "aa927cf9",
   "metadata": {},
   "source": [
    "###### Code - "
   ]
  },
  {
   "cell_type": "code",
   "execution_count": 118,
   "id": "900f20dd",
   "metadata": {},
   "outputs": [
    {
     "data": {
      "text/plain": [
       "Text(0.5, 1.0, 'Heart Diseases vs Age')"
      ]
     },
     "execution_count": 118,
     "metadata": {},
     "output_type": "execute_result"
    },
    {
     "data": {
      "image/png": "[encoded data removed]",
      "text/plain": [
       "<Figure size 2160x720 with 1 Axes>"
      ]
     },
     "metadata": {},
     "output_type": "display_data"
    }
   ],
   "source": [
    "#Occurance of heart diseases with age\n",
    "\n",
    "df = pd.DataFrame({\"Heart_Disease\":data['HeartDisease'],\"Age\":data['Age']})\n",
    "plt.figure(figsize=(30, 10))\n",
    "ax = sns.countplot(x=df[\"Age\"], hue=df[\"Heart_Disease\"],palette = 'Set1')\n",
    "sns.set_theme(style=\"whitegrid\")\n",
    "ax.set_title('Heart Diseases vs Age')"
   ]
  },
  {
   "cell_type": "code",
   "execution_count": 119,
   "id": "b047b7d0",
   "metadata": {},
   "outputs": [
    {
     "data": {
      "image/png": "[encoded data removed]",
      "text/plain": [
       "<Figure size 720x432 with 1 Axes>"
      ]
     },
     "metadata": {},
     "output_type": "display_data"
    }
   ],
   "source": [
    "#Occurance of heart diseases with gender\n",
    "\n",
    "df = pd.DataFrame({\"Heart_Disease\":data['HeartDisease'],\"Sex\":data['Sex']})\n",
    "plt.figure(figsize=(10, 6))\n",
    "ax = sns.countplot(x=df[\"Sex\"], hue=df[\"Heart_Disease\"],palette = 'Set2')\n",
    "ax.set_title('Heart Diseases vs Sex')\n",
    "sns.set_theme(style=\"whitegrid\")"
   ]
  },
  {
   "cell_type": "code",
   "execution_count": 120,
   "id": "b4468e65",
   "metadata": {},
   "outputs": [
    {
     "data": {
      "text/plain": [
       "Text(0.5, 1.0, 'Heart Diseases vs BP')"
      ]
     },
     "execution_count": 120,
     "metadata": {},
     "output_type": "execute_result"
    },
    {
     "data": {
      "image/png": "[encoded data removed]",
      "text/plain": [
       "<Figure size 1800x720 with 1 Axes>"
      ]
     },
     "metadata": {},
     "output_type": "display_data"
    }
   ],
   "source": [
    "#Occurance of heart diseases with hypertension\n",
    "\n",
    "df = pd.DataFrame({\"Heart_Disease\":data['HeartDisease'],\"BP\":data['RestingBP']})\n",
    "plt.figure(figsize=(25, 10))\n",
    "ax = sns.histplot(x=df[\"BP\"], hue=df[\"Heart_Disease\"])\n",
    "ax.set_title('Heart Diseases vs BP')"
   ]
  },
  {
   "cell_type": "code",
   "execution_count": 121,
   "id": "996cd31c",
   "metadata": {},
   "outputs": [
    {
     "data": {
      "text/plain": [
       "Text(0.5, 1.0, 'Heart Diseases vs Diabetes')"
      ]
     },
     "execution_count": 121,
     "metadata": {},
     "output_type": "execute_result"
    },
    {
     "data": {
      "image/png": "[encoded data removed]",
      "text/plain": [
       "<Figure size 648x432 with 1 Axes>"
      ]
     },
     "metadata": {},
     "output_type": "display_data"
    }
   ],
   "source": [
    "#Occurance of heart diseases with diabetes\n",
    "\n",
    "df = pd.DataFrame({\"Heart_Disease\":data['HeartDisease'],\"FastingBS\":data['FastingBS']})\n",
    "plt.figure(figsize=(9,6))\n",
    "ax = sns.countplot(x=df[\"FastingBS\"], hue=df[\"Heart_Disease\"])\n",
    "ax.set_title('Heart Diseases vs Diabetes')"
   ]
  },
  {
   "cell_type": "markdown",
   "id": "91d21f23",
   "metadata": {},
   "source": [
    "People with fasting blood sugar value 1 and having heart diseases are diagnosed with diabetes"
   ]
  },
  {
   "cell_type": "markdown",
   "id": "4f552875",
   "metadata": {},
   "source": [
    "###### Q-3:Can you identify any outliers in the dataset, particularly for numerical features like age, resting blood pressure, cholesterol levels, maximum heart rate achieved, and oldpeak? How are you planning to handle them?"
   ]
  },
  {
   "cell_type": "markdown",
   "id": "770ac621",
   "metadata": {},
   "source": [
    "###### Code - "
   ]
  },
  {
   "cell_type": "markdown",
   "id": "1293d4cd",
   "metadata": {},
   "source": [
    "For age column in dataset - "
   ]
  },
  {
   "cell_type": "code",
   "execution_count": 139,
   "id": "2296b06b",
   "metadata": {},
   "outputs": [
    {
     "data": {
      "text/plain": [
       "<AxesSubplot:>"
      ]
     },
     "execution_count": 139,
     "metadata": {},
     "output_type": "execute_result"
    },
    {
     "data": {
      "image/png": "[encoded data removed]",
      "text/plain": [
       "<Figure size 432x288 with 1 Axes>"
      ]
     },
     "metadata": {},
     "output_type": "display_data"
    }
   ],
   "source": [
    "#identifying the outliers\n",
    "sns.boxplot(data['Age'])"
   ]
  },
  {
   "cell_type": "code",
   "execution_count": 140,
   "id": "3ac76c96",
   "metadata": {},
   "outputs": [],
   "source": [
    "# Calculate the upper and lower limits\n",
    "Q1 = data['Age'].quantile(0.25)\n",
    "Q3 = data['Age'].quantile(0.75)\n",
    "IQR = Q3 - Q1\n",
    "#IQR - inter quartile range\n",
    "lower = Q1 - 1.5*IQR\n",
    "upper = Q3 + 1.5*IQR"
   ]
  },
  {
   "cell_type": "code",
   "execution_count": 141,
   "id": "fffed1d7",
   "metadata": {},
   "outputs": [],
   "source": [
    "# Create arrays of Boolean values indicating the outlier rows\n",
    "upper_array = np.where(data['Age']>=upper)[0]\n",
    "lower_array = np.where(data['Age']<=lower)[0]"
   ]
  },
  {
   "cell_type": "code",
   "execution_count": 142,
   "id": "a692713f",
   "metadata": {},
   "outputs": [],
   "source": [
    "# Removing the outliers\n",
    "data.drop(index=upper_array, inplace=True)\n",
    "data.drop(index=lower_array, inplace=True)"
   ]
  },
  {
   "cell_type": "markdown",
   "id": "363d198a",
   "metadata": {},
   "source": [
    "For cholesterol column in dataset -"
   ]
  },
  {
   "cell_type": "code",
   "execution_count": 143,
   "id": "eb5bd563",
   "metadata": {},
   "outputs": [
    {
     "data": {
      "text/plain": [
       "<AxesSubplot:>"
      ]
     },
     "execution_count": 143,
     "metadata": {},
     "output_type": "execute_result"
    },
    {
     "data": {
      "image/png": "[encoded data removed]",
      "text/plain": [
       "<Figure size 432x288 with 1 Axes>"
      ]
     },
     "metadata": {},
     "output_type": "display_data"
    }
   ],
   "source": [
    "sns.boxplot(data['Cholesterol'])"
   ]
  },
  {
   "cell_type": "code",
   "execution_count": 144,
   "id": "07374284",
   "metadata": {},
   "outputs": [],
   "source": [
    "# Calculate the upper and lower limits\n",
    "Q1 = data['Cholesterol'].quantile(0.25)\n",
    "Q3 = data['Cholesterol'].quantile(0.75)\n",
    "IQR = Q3 - Q1\n",
    "#IQR - inter quartile range\n",
    "lower = Q1 - 1.5*IQR\n",
    "upper = Q3 + 1.5*IQR"
   ]
  },
  {
   "cell_type": "code",
   "execution_count": 145,
   "id": "619cab68",
   "metadata": {},
   "outputs": [],
   "source": [
    "# Create arrays of Boolean values indicating the outlier rows\n",
    "upper_array = np.where(data['Cholesterol']>=upper)[0]\n",
    "lower_array = np.where(data['Cholesterol']<=lower)[0]"
   ]
  },
  {
   "cell_type": "code",
   "execution_count": 148,
   "id": "45f79153",
   "metadata": {},
   "outputs": [],
   "source": [
    "# Removing the outliers\n",
    "common_indices = np.intersect1d(upper_array, lower_array)\n",
    "data.drop(index=common_indices, inplace=True)"
   ]
  },
  {
   "cell_type": "markdown",
   "id": "8e719631",
   "metadata": {},
   "source": [
    "For maximum heart rate column in dataset - "
   ]
  },
  {
   "cell_type": "code",
   "execution_count": 149,
   "id": "197645d2",
   "metadata": {},
   "outputs": [
    {
     "data": {
      "text/plain": [
       "<AxesSubplot:>"
      ]
     },
     "execution_count": 149,
     "metadata": {},
     "output_type": "execute_result"
    },
    {
     "data": {
      "image/png": "[encoded data removed]",
      "text/plain": [
       "<Figure size 432x288 with 1 Axes>"
      ]
     },
     "metadata": {},
     "output_type": "display_data"
    }
   ],
   "source": [
    "sns.boxplot(data['MaxHR'])"
   ]
  },
  {
   "cell_type": "code",
   "execution_count": 150,
   "id": "d4758880",
   "metadata": {},
   "outputs": [],
   "source": [
    "# Calculate the upper and lower limits\n",
    "Q1 = data['MaxHR'].quantile(0.25)\n",
    "Q3 = data['MaxHR'].quantile(0.75)\n",
    "IQR = Q3 - Q1\n",
    "#IQR - inter quartile range\n",
    "lower = Q1 - 1.5*IQR\n",
    "upper = Q3 + 1.5*IQR"
   ]
  },
  {
   "cell_type": "code",
   "execution_count": 151,
   "id": "760d6527",
   "metadata": {},
   "outputs": [],
   "source": [
    "# Create arrays of Boolean values indicating the outlier rows\n",
    "upper_array = np.where(data['MaxHR']>=upper)[0]\n",
    "lower_array = np.where(data['MaxHR']<=lower)[0]"
   ]
  },
  {
   "cell_type": "code",
   "execution_count": 152,
   "id": "668022b0",
   "metadata": {},
   "outputs": [],
   "source": [
    "# Removing the outliers\n",
    "common_indices = np.intersect1d(upper_array, lower_array)\n",
    "data.drop(index=common_indices, inplace=True)"
   ]
  },
  {
   "cell_type": "markdown",
   "id": "fbe4615f",
   "metadata": {},
   "source": [
    "For resting blood pressure column - "
   ]
  },
  {
   "cell_type": "code",
   "execution_count": 153,
   "id": "ca1f90c4",
   "metadata": {},
   "outputs": [
    {
     "data": {
      "text/plain": [
       "<AxesSubplot:>"
      ]
     },
     "execution_count": 153,
     "metadata": {},
     "output_type": "execute_result"
    },
    {
     "data": {
      "image/png": "[encoded data removed]",
      "text/plain": [
       "<Figure size 432x288 with 1 Axes>"
      ]
     },
     "metadata": {},
     "output_type": "display_data"
    }
   ],
   "source": [
    "sns.boxplot(data['RestingBP'])"
   ]
  },
  {
   "cell_type": "code",
   "execution_count": 154,
   "id": "bcc8e86e",
   "metadata": {},
   "outputs": [],
   "source": [
    "# Calculate the upper and lower limits\n",
    "Q1 = data['RestingBP'].quantile(0.25)\n",
    "Q3 = data['RestingBP'].quantile(0.75)\n",
    "IQR = Q3 - Q1\n",
    "#IQR - inter quartile range\n",
    "lower = Q1 - 1.5*IQR\n",
    "upper = Q3 + 1.5*IQR"
   ]
  },
  {
   "cell_type": "code",
   "execution_count": 155,
   "id": "7484a356",
   "metadata": {},
   "outputs": [],
   "source": [
    "# Create arrays of Boolean values indicating the outlier rows\n",
    "upper_array = np.where(data['RestingBP']>=upper)[0]\n",
    "lower_array = np.where(data['RestingBP']<=lower)[0]"
   ]
  },
  {
   "cell_type": "code",
   "execution_count": 156,
   "id": "e9d30ab1",
   "metadata": {},
   "outputs": [],
   "source": [
    "# Removing the outliers\n",
    "common_indices = np.intersect1d(upper_array, lower_array)\n",
    "data.drop(index=common_indices, inplace=True)"
   ]
  },
  {
   "cell_type": "markdown",
   "id": "5bfa6e7a",
   "metadata": {},
   "source": [
    "For Old peak column - "
   ]
  },
  {
   "cell_type": "code",
   "execution_count": 158,
   "id": "6552637c",
   "metadata": {},
   "outputs": [
    {
     "data": {
      "text/plain": [
       "<AxesSubplot:>"
      ]
     },
     "execution_count": 158,
     "metadata": {},
     "output_type": "execute_result"
    },
    {
     "data": {
      "image/png": "[encoded data removed]",
      "text/plain": [
       "<Figure size 432x288 with 1 Axes>"
      ]
     },
     "metadata": {},
     "output_type": "display_data"
    }
   ],
   "source": [
    "sns.boxplot(data['Oldpeak'])"
   ]
  },
  {
   "cell_type": "code",
   "execution_count": 159,
   "id": "2a2b0f2c",
   "metadata": {},
   "outputs": [],
   "source": [
    "# Calculate the upper and lower limits\n",
    "Q1 = data['Oldpeak'].quantile(0.25)\n",
    "Q3 = data['Oldpeak'].quantile(0.75)\n",
    "IQR = Q3 - Q1\n",
    "#IQR - inter quartile range\n",
    "lower = Q1 - 1.5*IQR\n",
    "upper = Q3 + 1.5*IQR"
   ]
  },
  {
   "cell_type": "code",
   "execution_count": 160,
   "id": "3356eb75",
   "metadata": {},
   "outputs": [],
   "source": [
    "# Create arrays of Boolean values indicating the outlier rows\n",
    "upper_array = np.where(data['Oldpeak']>=upper)[0]\n",
    "lower_array = np.where(data['Oldpeak']<=lower)[0]"
   ]
  },
  {
   "cell_type": "code",
   "execution_count": 161,
   "id": "35ba5c79",
   "metadata": {},
   "outputs": [],
   "source": [
    "# Removing the outliers\n",
    "common_indices = np.intersect1d(upper_array, lower_array)\n",
    "data.drop(index=common_indices, inplace=True)"
   ]
  },
  {
   "cell_type": "markdown",
   "id": "2003f5e8",
   "metadata": {},
   "source": [
    "###### Observation - "
   ]
  },
  {
   "cell_type": "markdown",
   "id": "a039638d",
   "metadata": {},
   "source": [
    "The accuracy of the model before removing outliers was 81.04% , while that after removing the outliers was 83.67% as found in task - 2 ."
   ]
  },
  {
   "cell_type": "markdown",
   "id": "205b714d",
   "metadata": {},
   "source": [
    "###### Q-4: Are there any correlations between the different features and the presence of heart disease? Visualize it using a heatmap or correlation matrix. Determine if any feature(s) can be dropped based on their relationship with the target variable."
   ]
  },
  {
   "cell_type": "markdown",
   "id": "39e04db3",
   "metadata": {},
   "source": [
    "###### Code - "
   ]
  },
  {
   "cell_type": "code",
   "execution_count": 162,
   "id": "925333a0",
   "metadata": {},
   "outputs": [
    {
     "data": {
      "image/png": "[encoded data removed]",
      "text/plain": [
       "<Figure size 720x576 with 2 Axes>"
      ]
     },
     "metadata": {},
     "output_type": "display_data"
    }
   ],
   "source": [
    "#correlation matrix between different features\n",
    "sns.heatmap(data.corr(),annot=True,cmap='RdYlGn',linewidths=0.2) \n",
    "fig=plt.gcf()\n",
    "fig.set_size_inches(10,8)\n",
    "plt.show()"
   ]
  },
  {
   "cell_type": "markdown",
   "id": "6ba22417",
   "metadata": {},
   "source": [
    "###### Explanation - "
   ]
  },
  {
   "cell_type": "markdown",
   "id": "1d50bdaf",
   "metadata": {},
   "source": [
    "When two features are highly or perfectly correlated i.e the increase in one leads to increase in other(direct relation),then\n",
    "this implies similar information and little or no variance in information. This can lead to redundant information and reduces training time.\n",
    "\n",
    "Here the highest correlation is between Oldpeak and HeartDisease ie 0.5 which is suitable to be inputted in our model , hence all features can be carried out as such and do not need to be dropped.\n"
   ]
  },
  {
   "cell_type": "markdown",
   "id": "8b441374",
   "metadata": {},
   "source": [
    "###### Q-5: Can you perform feature encoding or transformation on categorical variables like sex, chest pain type, resting ECG, and exercise-induced angina? Which encoding technique would be most suitable?"
   ]
  },
  {
   "cell_type": "markdown",
   "id": "140dfd06",
   "metadata": {},
   "source": [
    "###### Code - "
   ]
  },
  {
   "cell_type": "code",
   "execution_count": 163,
   "id": "16fccb36",
   "metadata": {},
   "outputs": [],
   "source": [
    "data['Sex'].replace(['M','F'],[0,1],inplace=True)\n",
    "data['ChestPainType'].replace(['TA','ATA','NAP','ASY'],[0,1,2,3],inplace=True)\n",
    "#[TA: Typical Angina, ATA: Atypical Angina, NAP: Non-Anginal Pain, ASY: Asymptomatic]\n",
    "data['RestingECG'].replace(['ST','Normal','LVH'],[0,1,2],inplace=True)\n",
    "data['ExerciseAngina'].replace(['N','Y'],[0,1],inplace=True)\n",
    "data['ST_Slope'].replace(['Flat','Up','Down'],[0,1,2],inplace=True)"
   ]
  },
  {
   "cell_type": "markdown",
   "id": "ae17b55c",
   "metadata": {},
   "source": [
    "###### Explanation - "
   ]
  },
  {
   "cell_type": "markdown",
   "id": "c8708709",
   "metadata": {},
   "source": [
    "A categorical variable is one that has two or more categories and each value in that feature can be categorised by them.\n",
    "For example, gender is a categorical variable having two categories (male and female).\n",
    "\n",
    "Since we cannot pass strings to a machine learning model, we need to convert features like Sex ,Chest pain type ,Resting ECG ,Exercise Induced Angina and ST_Slope into numeric values by feature transformation."
   ]
  },
  {
   "cell_type": "markdown",
   "id": "04308da0",
   "metadata": {},
   "source": [
    "## TASK 2 - Classification/Regression"
   ]
  },
  {
   "cell_type": "markdown",
   "id": "504cd677",
   "metadata": {},
   "source": [
    "#### Perform following steps on the same dataset which you used for EDA.\n",
    "\n",
    "Data Preprocessing (as per requirement)\n",
    "\n",
    "Feature Engineering\n",
    "\n",
    "Split dataset in train-test (80:20 ratio)\n",
    "\n",
    "Model selection\n",
    "\n",
    "Model training\n",
    "\n",
    "Model evaluation\n",
    "\n",
    "Fine-tune the Model\n",
    "\n",
    "Make predictions\n",
    "\n",
    "Summarize your model's performance by evaluation metrices\n"
   ]
  },
  {
   "cell_type": "markdown",
   "id": "a3144084",
   "metadata": {},
   "source": [
    "###### Code - "
   ]
  },
  {
   "cell_type": "markdown",
   "id": "3b47730c",
   "metadata": {},
   "source": [
    "We have performed feature engineering above converting categorical data having string values to numberical data."
   ]
  },
  {
   "cell_type": "code",
   "execution_count": 164,
   "id": "4a43c1ec",
   "metadata": {},
   "outputs": [],
   "source": [
    "from sklearn.model_selection import train_test_split"
   ]
  },
  {
   "cell_type": "code",
   "execution_count": 165,
   "id": "fa35fb15",
   "metadata": {},
   "outputs": [],
   "source": [
    "train , test = train_test_split(data , test_size=0.2,random_state = 1234)\n",
    "#test_size 0.2 ensures an 80-20 split"
   ]
  },
  {
   "cell_type": "code",
   "execution_count": 166,
   "id": "d108a3c0",
   "metadata": {},
   "outputs": [],
   "source": [
    "X_train=train.drop(['HeartDisease'],1)\n",
    "X_test=test.drop(['HeartDisease'],1)\n",
    "\n",
    "Y_train=train['HeartDisease']\n",
    "Y_test=test['HeartDisease']"
   ]
  },
  {
   "cell_type": "code",
   "execution_count": 167,
   "id": "85f6e9ae",
   "metadata": {},
   "outputs": [
    {
     "data": {
      "text/plain": [
       "((588, 11), (588,))"
      ]
     },
     "execution_count": 167,
     "metadata": {},
     "output_type": "execute_result"
    }
   ],
   "source": [
    "X_train.shape, Y_train.shape"
   ]
  },
  {
   "cell_type": "code",
   "execution_count": 168,
   "id": "a88b37f6",
   "metadata": {},
   "outputs": [
    {
     "data": {
      "text/plain": [
       "((147, 11), (147,))"
      ]
     },
     "execution_count": 168,
     "metadata": {},
     "output_type": "execute_result"
    }
   ],
   "source": [
    "X_test.shape , Y_test.shape"
   ]
  },
  {
   "cell_type": "code",
   "execution_count": 169,
   "id": "66f17fe4",
   "metadata": {},
   "outputs": [],
   "source": [
    "from sklearn.linear_model import LogisticRegression"
   ]
  },
  {
   "cell_type": "code",
   "execution_count": 170,
   "id": "69330f6a",
   "metadata": {},
   "outputs": [],
   "source": [
    "#Creating a model\n",
    "model = LogisticRegression()"
   ]
  },
  {
   "cell_type": "code",
   "execution_count": 171,
   "id": "eb2f32ee",
   "metadata": {},
   "outputs": [
    {
     "data": {
      "text/html": [
       "<style>#sk-container-id-3 {color: black;background-color: white;}#sk-container-id-3 pre{padding: 0;}#sk-container-id-3 div.sk-toggleable {background-color: white;}#sk-container-id-3 label.sk-toggleable__label {cursor: pointer;display: block;width: 100%;margin-bottom: 0;padding: 0.3em;box-sizing: border-box;text-align: center;}#sk-container-id-3 label.sk-toggleable__label-arrow:before {content: \"▸\";float: left;margin-right: 0.25em;color: #696969;}#sk-container-id-3 label.sk-toggleable__label-arrow:hover:before {color: black;}#sk-container-id-3 div.sk-estimator:hover label.sk-toggleable__label-arrow:before {color: black;}#sk-container-id-3 div.sk-toggleable__content {max-height: 0;max-width: 0;overflow: hidden;text-align: left;background-color: #f0f8ff;}#sk-container-id-3 div.sk-toggleable__content pre {margin: 0.2em;color: black;border-radius: 0.25em;background-color: #f0f8ff;}#sk-container-id-3 input.sk-toggleable__control:checked~div.sk-toggleable__content {max-height: 200px;max-width: 100%;overflow: auto;}#sk-container-id-3 input.sk-toggleable__control:checked~label.sk-toggleable__label-arrow:before {content: \"▾\";}#sk-container-id-3 div.sk-estimator input.sk-toggleable__control:checked~label.sk-toggleable__label {background-color: #d4ebff;}#sk-container-id-3 div.sk-label input.sk-toggleable__control:checked~label.sk-toggleable__label {background-color: #d4ebff;}#sk-container-id-3 input.sk-hidden--visually {border: 0;clip: rect(1px 1px 1px 1px);clip: rect(1px, 1px, 1px, 1px);height: 1px;margin: -1px;overflow: hidden;padding: 0;position: absolute;width: 1px;}#sk-container-id-3 div.sk-estimator {font-family: monospace;background-color: #f0f8ff;border: 1px dotted black;border-radius: 0.25em;box-sizing: border-box;margin-bottom: 0.5em;}#sk-container-id-3 div.sk-estimator:hover {background-color: #d4ebff;}#sk-container-id-3 div.sk-parallel-item::after {content: \"\";width: 100%;border-bottom: 1px solid gray;flex-grow: 1;}#sk-container-id-3 div.sk-label:hover label.sk-toggleable__label {background-color: #d4ebff;}#sk-container-id-3 div.sk-serial::before {content: \"\";position: absolute;border-left: 1px solid gray;box-sizing: border-box;top: 0;bottom: 0;left: 50%;z-index: 0;}#sk-container-id-3 div.sk-serial {display: flex;flex-direction: column;align-items: center;background-color: white;padding-right: 0.2em;padding-left: 0.2em;position: relative;}#sk-container-id-3 div.sk-item {position: relative;z-index: 1;}#sk-container-id-3 div.sk-parallel {display: flex;align-items: stretch;justify-content: center;background-color: white;position: relative;}#sk-container-id-3 div.sk-item::before, #sk-container-id-3 div.sk-parallel-item::before {content: \"\";position: absolute;border-left: 1px solid gray;box-sizing: border-box;top: 0;bottom: 0;left: 50%;z-index: -1;}#sk-container-id-3 div.sk-parallel-item {display: flex;flex-direction: column;z-index: 1;position: relative;background-color: white;}#sk-container-id-3 div.sk-parallel-item:first-child::after {align-self: flex-end;width: 50%;}#sk-container-id-3 div.sk-parallel-item:last-child::after {align-self: flex-start;width: 50%;}#sk-container-id-3 div.sk-parallel-item:only-child::after {width: 0;}#sk-container-id-3 div.sk-dashed-wrapped {border: 1px dashed gray;margin: 0 0.4em 0.5em 0.4em;box-sizing: border-box;padding-bottom: 0.4em;background-color: white;}#sk-container-id-3 div.sk-label label {font-family: monospace;font-weight: bold;display: inline-block;line-height: 1.2em;}#sk-container-id-3 div.sk-label-container {text-align: center;}#sk-container-id-3 div.sk-container {/* jupyter's `normalize.less` sets `[hidden] { display: none; }` but bootstrap.min.css set `[hidden] { display: none !important; }` so we also need the `!important` here to be able to override the default hidden behavior on the sphinx rendered scikit-learn.org. See: https://github.com/scikit-learn/scikit-learn/issues/21755 */display: inline-block !important;position: relative;}#sk-container-id-3 div.sk-text-repr-fallback {display: none;}</style><div id=\"sk-container-id-3\" class=\"sk-top-container\"><div class=\"sk-text-repr-fallback\"><pre>LogisticRegression()</pre><b>In a Jupyter environment, please rerun this cell to show the HTML representation or trust the notebook. <br />On GitHub, the HTML representation is unable to render, please try loading this page with nbviewer.org.</b></div><div class=\"sk-container\" hidden><div class=\"sk-item\"><div class=\"sk-estimator sk-toggleable\"><input class=\"sk-toggleable__control sk-hidden--visually\" id=\"sk-estimator-id-3\" type=\"checkbox\" checked><label for=\"sk-estimator-id-3\" class=\"sk-toggleable__label sk-toggleable__label-arrow\">LogisticRegression</label><div class=\"sk-toggleable__content\"><pre>LogisticRegression()</pre></div></div></div></div></div>"
      ],
      "text/plain": [
       "LogisticRegression()"
      ]
     },
     "execution_count": 171,
     "metadata": {},
     "output_type": "execute_result"
    }
   ],
   "source": [
    "#Training the model\n",
    "model.fit(X_train, Y_train)"
   ]
  },
  {
   "cell_type": "code",
   "execution_count": 172,
   "id": "d8169d17",
   "metadata": {},
   "outputs": [
    {
     "data": {
      "text/plain": [
       "0.8656462585034014"
      ]
     },
     "execution_count": 172,
     "metadata": {},
     "output_type": "execute_result"
    }
   ],
   "source": [
    "#Model accuracy\n",
    "model.score(X_train, Y_train)"
   ]
  },
  {
   "cell_type": "markdown",
   "id": "4543cdfa",
   "metadata": {},
   "source": [
    "We can see that the training accuracy is 86.56% "
   ]
  },
  {
   "cell_type": "code",
   "execution_count": 173,
   "id": "f7b26628",
   "metadata": {},
   "outputs": [
    {
     "data": {
      "text/plain": [
       "0.8367346938775511"
      ]
     },
     "execution_count": 173,
     "metadata": {},
     "output_type": "execute_result"
    }
   ],
   "source": [
    "#Model evaluation\n",
    "model.score(X_test,Y_test)"
   ]
  },
  {
   "cell_type": "markdown",
   "id": "06ac14b2",
   "metadata": {},
   "source": [
    "We see that the test accuracy of the model is 83.67% "
   ]
  },
  {
   "cell_type": "code",
   "execution_count": 174,
   "id": "8430c9da",
   "metadata": {},
   "outputs": [
    {
     "data": {
      "text/plain": [
       "array([0, 0, 1, 1, 1, 0, 0, 1, 1, 1, 1, 0, 0, 0, 0, 1, 1, 1, 1, 0, 1, 1,\n",
       "       0, 0, 1, 0, 0, 1, 1, 0, 1, 0, 0, 1, 0, 0, 0, 1, 0, 1, 0, 1, 0, 1,\n",
       "       1, 1, 0, 0, 0, 0, 0, 0, 0, 0, 1, 1, 0, 1, 1, 1, 1, 1, 0, 0, 1, 0,\n",
       "       1, 1, 1, 0, 1, 0, 0, 1, 0, 1, 1, 1, 0, 1, 1, 1, 0, 0, 1, 0, 1, 1,\n",
       "       1, 1, 1, 1, 1, 1, 0, 0, 1, 1, 0, 0, 0, 1, 1, 0, 1, 0, 1, 0, 1, 0,\n",
       "       1, 0, 0, 0, 0, 0, 1, 0, 1, 0, 1, 0, 0, 0, 0, 1, 0, 0, 0, 0, 0, 0,\n",
       "       1, 1, 1, 0, 0, 1, 0, 0, 0, 0, 0, 0, 0, 0, 0], dtype=int64)"
      ]
     },
     "execution_count": 174,
     "metadata": {},
     "output_type": "execute_result"
    }
   ],
   "source": [
    "#Making predictions\n",
    "pred = model.predict(X_test)\n",
    "pred"
   ]
  },
  {
   "cell_type": "code",
   "execution_count": 175,
   "id": "eccfe37b",
   "metadata": {},
   "outputs": [],
   "source": [
    "#Summarize your model's performance by evaluation metrices\n",
    "from sklearn import metrics "
   ]
  },
  {
   "cell_type": "code",
   "execution_count": 176,
   "id": "a9cb9ad1",
   "metadata": {},
   "outputs": [
    {
     "name": "stdout",
     "output_type": "stream",
     "text": [
      "Accuracy of model is:  0.8367346938775511\n"
     ]
    }
   ],
   "source": [
    "print('Accuracy of model is: ',metrics.accuracy_score(pred,Y_test))"
   ]
  },
  {
   "cell_type": "markdown",
   "id": "6ae7eaca",
   "metadata": {},
   "source": [
    "###### The final result gives us that the accuracy of our model is 83.67% ."
   ]
  },
  {
   "cell_type": "code",
   "execution_count": null,
   "id": "d82fcdf1",
   "metadata": {},
   "outputs": [],
   "source": []
  }
 ],
 "metadata": {
  "kernelspec": {
   "display_name": "Python 3 (ipykernel)",
   "language": "python",
   "name": "python3"
  },
  "language_info": {
   "codemirror_mode": {
    "name": "ipython",
    "version": 3
   },
   "file_extension": ".py",
   "mimetype": "text/x-python",
   "name": "python",
   "nbconvert_exporter": "python",
   "pygments_lexer": "ipython3",
   "version": "3.9.5"
  }
 },
 "nbformat": 4,
 "nbformat_minor": 5
}
